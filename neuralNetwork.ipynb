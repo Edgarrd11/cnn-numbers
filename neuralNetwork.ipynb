{
 "cells": [
  {
   "cell_type": "code",
   "execution_count": 132,
   "metadata": {
    "metadata": {}
   },
   "outputs": [],
   "source": [
    "import torch \n",
    "import torch.nn as nn \n",
    "import torch.nn.functional as F"
   ]
  },
  {
   "cell_type": "code",
   "execution_count": 133,
   "metadata": {
    "metadata": {}
   },
   "outputs": [],
   "source": [
    "#Create a Model Class that inherits nn.Module\n",
    "\n",
    "class Model(nn.Module):\n",
    "    #Input layer (4 features flower) \n",
    "    #--> hidden layer1 (n neurons) --> H2 (n) \n",
    "    #--> output (3 types of iris flowers)\n",
    "    def __init__(self, in_features=4, h1=8, h2=9, out_features = 3):\n",
    "        super().__init__() # instantiate our nn.Module\n",
    "        self.fc1 = nn.Linear(in_features, h1)\n",
    "        self.fc2 = nn.Linear(h1,h2)\n",
    "        self.out =  nn.Linear(h2,out_features)\n",
    "    \n",
    "    def forward(self, x):\n",
    "        x = F.relu(self.fc1(x))\n",
    "        x = F.relu(self.fc2(x))\n",
    "        x = self.out(x)\n",
    "        return x\n",
    "\n"
   ]
  },
  {
   "cell_type": "code",
   "execution_count": 134,
   "metadata": {
    "metadata": {}
   },
   "outputs": [],
   "source": [
    "# Pick a manual seed for randomization\n",
    "torch.manual_seed(41)\n",
    "# Create an instance of model\n",
    "model = Model()\n"
   ]
  },
  {
   "cell_type": "code",
   "execution_count": 135,
   "metadata": {
    "metadata": {}
   },
   "outputs": [],
   "source": [
    "import pandas as pd\n",
    "import matplotlib.pyplot as plt\n",
    "%matplotlib inline"
   ]
  },
  {
   "cell_type": "code",
   "execution_count": 136,
   "metadata": {
    "metadata": {}
   },
   "outputs": [],
   "source": [
    "url = 'https://gist.githubusercontent.com/netj/8836201/raw/6f9306ad21398ea43cba4f7d537619d0e07d5ae3/iris.csv'\n",
    "my_df = pd.read_csv(url)"
   ]
  },
  {
   "cell_type": "code",
   "execution_count": 137,
   "metadata": {
    "metadata": {}
   },
   "outputs": [
    {
     "data": {
      "text/html": [
       "<div>\n",
       "<style scoped>\n",
       "    .dataframe tbody tr th:only-of-type {\n",
       "        vertical-align: middle;\n",
       "    }\n",
       "\n",
       "    .dataframe tbody tr th {\n",
       "        vertical-align: top;\n",
       "    }\n",
       "\n",
       "    .dataframe thead th {\n",
       "        text-align: right;\n",
       "    }\n",
       "</style>\n",
       "<table border=\"1\" class=\"dataframe\">\n",
       "  <thead>\n",
       "    <tr style=\"text-align: right;\">\n",
       "      <th></th>\n",
       "      <th>sepal.length</th>\n",
       "      <th>sepal.width</th>\n",
       "      <th>petal.length</th>\n",
       "      <th>petal.width</th>\n",
       "      <th>variety</th>\n",
       "    </tr>\n",
       "  </thead>\n",
       "  <tbody>\n",
       "    <tr>\n",
       "      <th>0</th>\n",
       "      <td>5.1</td>\n",
       "      <td>3.5</td>\n",
       "      <td>1.4</td>\n",
       "      <td>0.2</td>\n",
       "      <td>0.0</td>\n",
       "    </tr>\n",
       "    <tr>\n",
       "      <th>1</th>\n",
       "      <td>4.9</td>\n",
       "      <td>3.0</td>\n",
       "      <td>1.4</td>\n",
       "      <td>0.2</td>\n",
       "      <td>0.0</td>\n",
       "    </tr>\n",
       "    <tr>\n",
       "      <th>2</th>\n",
       "      <td>4.7</td>\n",
       "      <td>3.2</td>\n",
       "      <td>1.3</td>\n",
       "      <td>0.2</td>\n",
       "      <td>0.0</td>\n",
       "    </tr>\n",
       "    <tr>\n",
       "      <th>3</th>\n",
       "      <td>4.6</td>\n",
       "      <td>3.1</td>\n",
       "      <td>1.5</td>\n",
       "      <td>0.2</td>\n",
       "      <td>0.0</td>\n",
       "    </tr>\n",
       "    <tr>\n",
       "      <th>4</th>\n",
       "      <td>5.0</td>\n",
       "      <td>3.6</td>\n",
       "      <td>1.4</td>\n",
       "      <td>0.2</td>\n",
       "      <td>0.0</td>\n",
       "    </tr>\n",
       "    <tr>\n",
       "      <th>...</th>\n",
       "      <td>...</td>\n",
       "      <td>...</td>\n",
       "      <td>...</td>\n",
       "      <td>...</td>\n",
       "      <td>...</td>\n",
       "    </tr>\n",
       "    <tr>\n",
       "      <th>145</th>\n",
       "      <td>6.7</td>\n",
       "      <td>3.0</td>\n",
       "      <td>5.2</td>\n",
       "      <td>2.3</td>\n",
       "      <td>2.0</td>\n",
       "    </tr>\n",
       "    <tr>\n",
       "      <th>146</th>\n",
       "      <td>6.3</td>\n",
       "      <td>2.5</td>\n",
       "      <td>5.0</td>\n",
       "      <td>1.9</td>\n",
       "      <td>2.0</td>\n",
       "    </tr>\n",
       "    <tr>\n",
       "      <th>147</th>\n",
       "      <td>6.5</td>\n",
       "      <td>3.0</td>\n",
       "      <td>5.2</td>\n",
       "      <td>2.0</td>\n",
       "      <td>2.0</td>\n",
       "    </tr>\n",
       "    <tr>\n",
       "      <th>148</th>\n",
       "      <td>6.2</td>\n",
       "      <td>3.4</td>\n",
       "      <td>5.4</td>\n",
       "      <td>2.3</td>\n",
       "      <td>2.0</td>\n",
       "    </tr>\n",
       "    <tr>\n",
       "      <th>149</th>\n",
       "      <td>5.9</td>\n",
       "      <td>3.0</td>\n",
       "      <td>5.1</td>\n",
       "      <td>1.8</td>\n",
       "      <td>2.0</td>\n",
       "    </tr>\n",
       "  </tbody>\n",
       "</table>\n",
       "<p>150 rows × 5 columns</p>\n",
       "</div>"
      ],
      "text/plain": [
       "     sepal.length  sepal.width  petal.length  petal.width  variety\n",
       "0             5.1          3.5           1.4          0.2      0.0\n",
       "1             4.9          3.0           1.4          0.2      0.0\n",
       "2             4.7          3.2           1.3          0.2      0.0\n",
       "3             4.6          3.1           1.5          0.2      0.0\n",
       "4             5.0          3.6           1.4          0.2      0.0\n",
       "..            ...          ...           ...          ...      ...\n",
       "145           6.7          3.0           5.2          2.3      2.0\n",
       "146           6.3          2.5           5.0          1.9      2.0\n",
       "147           6.5          3.0           5.2          2.0      2.0\n",
       "148           6.2          3.4           5.4          2.3      2.0\n",
       "149           5.9          3.0           5.1          1.8      2.0\n",
       "\n",
       "[150 rows x 5 columns]"
      ]
     },
     "execution_count": 137,
     "metadata": {},
     "output_type": "execute_result"
    }
   ],
   "source": [
    "# Change last colum from intergers\n",
    "my_df['variety'] = my_df['variety'].replace('Setosa', 0.0)\n",
    "my_df['variety'] = my_df['variety'].replace('Versicolor', 1.0)\n",
    "my_df['variety'] = my_df['variety'].replace('Virginica', 2.0)\n",
    "my_df"
   ]
  },
  {
   "cell_type": "code",
   "execution_count": 138,
   "metadata": {
    "metadata": {}
   },
   "outputs": [],
   "source": [
    "# Train test split! set X, y\n",
    "X = my_df.drop('variety', axis=1)\n",
    "y = my_df['variety']"
   ]
  },
  {
   "cell_type": "code",
   "execution_count": 139,
   "metadata": {
    "metadata": {}
   },
   "outputs": [],
   "source": [
    "X = X.values\n",
    "y = y.values"
   ]
  },
  {
   "cell_type": "code",
   "execution_count": 140,
   "metadata": {
    "metadata": {}
   },
   "outputs": [],
   "source": [
    "from sklearn.model_selection import train_test_split\n"
   ]
  },
  {
   "cell_type": "code",
   "execution_count": 141,
   "metadata": {},
   "outputs": [],
   "source": [
    "# Train test split with sklearn\n",
    "X_train, X_test, y_train, y_test = train_test_split(X,y,test_size=0.2, random_state=41)\n"
   ]
  },
  {
   "cell_type": "code",
   "execution_count": 142,
   "metadata": {},
   "outputs": [],
   "source": [
    "\n",
    "# Convert X to float tensors\n",
    "X_train = torch.FloatTensor(X_train)\n",
    "X_test = torch.FloatTensor(X_test)"
   ]
  },
  {
   "cell_type": "code",
   "execution_count": 143,
   "metadata": {},
   "outputs": [],
   "source": [
    "# Convert y to float tensors\n",
    "y_train = torch.LongTensor(y_train)\n",
    "y_test = torch.LongTensor(y_test)"
   ]
  },
  {
   "cell_type": "code",
   "execution_count": 144,
   "metadata": {
    "metadata": {}
   },
   "outputs": [],
   "source": [
    "# Set the criterion of model to mersure the error\n",
    "criterion = nn.CrossEntropyLoss()\n",
    "# Choose Adam optimizer, lr = learning rate \n",
    "# if error does not go down after a bunch of iterations(epochs),\n",
    "# lower our learning rate\n",
    "optimizer = torch.optim.Adam(model.parameters(), lr = 0.01)\n"
   ]
  },
  {
   "cell_type": "code",
   "execution_count": 145,
   "metadata": {},
   "outputs": [
    {
     "name": "stdout",
     "output_type": "stream",
     "text": [
      "Epoch: 0 and loss: 1.125203251838684\n",
      "Epoch: 10 and loss: 1.0097211599349976\n",
      "Epoch: 20 and loss: 0.8162348866462708\n",
      "Epoch: 30 and loss: 0.585993230342865\n",
      "Epoch: 40 and loss: 0.4003389775753021\n",
      "Epoch: 50 and loss: 0.26794716715812683\n",
      "Epoch: 60 and loss: 0.1796349585056305\n",
      "Epoch: 70 and loss: 0.12165624648332596\n",
      "Epoch: 80 and loss: 0.08606516569852829\n",
      "Epoch: 90 and loss: 0.06522615253925323\n",
      "Epoch: 100 and loss: 0.05286873131990433\n",
      "Epoch: 110 and loss: 0.04508010298013687\n",
      "Epoch: 120 and loss: 0.03979312255978584\n",
      "Epoch: 130 and loss: 0.03596429154276848\n",
      "Epoch: 140 and loss: 0.03302798792719841\n",
      "Epoch: 150 and loss: 0.030512521043419838\n",
      "Epoch: 160 and loss: 0.027733495458960533\n",
      "Epoch: 170 and loss: 0.024612072855234146\n",
      "Epoch: 180 and loss: 0.021672405302524567\n",
      "Epoch: 190 and loss: 0.019319692626595497\n",
      "Epoch: 200 and loss: 0.017491867765784264\n",
      "Epoch: 210 and loss: 0.016043035313487053\n",
      "Epoch: 220 and loss: 0.014838052913546562\n",
      "Epoch: 230 and loss: 0.013799230568110943\n",
      "Epoch: 240 and loss: 0.012878721579909325\n",
      "Epoch: 250 and loss: 0.012150400318205357\n",
      "Epoch: 260 and loss: 0.011581881903111935\n",
      "Epoch: 270 and loss: 0.010989668779075146\n",
      "Epoch: 280 and loss: 0.01029115542769432\n",
      "Epoch: 290 and loss: 0.009702972136437893\n",
      "Epoch: 300 and loss: 0.009452791884541512\n",
      "Epoch: 310 and loss: 0.00888048391789198\n",
      "Epoch: 320 and loss: 0.008319300599396229\n",
      "Epoch: 330 and loss: 0.00825556181371212\n",
      "Epoch: 340 and loss: 0.0077691213227808475\n",
      "Epoch: 350 and loss: 0.00725496094673872\n",
      "Epoch: 360 and loss: 0.006883654277771711\n",
      "Epoch: 370 and loss: 0.006597006227821112\n",
      "Epoch: 380 and loss: 0.006293485872447491\n",
      "Epoch: 390 and loss: 0.0066731590777635574\n",
      "Epoch: 400 and loss: 0.005799316801130772\n",
      "Epoch: 410 and loss: 0.005588124506175518\n",
      "Epoch: 420 and loss: 0.005301742348819971\n",
      "Epoch: 430 and loss: 0.005058379843831062\n",
      "Epoch: 440 and loss: 0.004857606254518032\n",
      "Epoch: 450 and loss: 0.004658824298530817\n",
      "Epoch: 460 and loss: 0.0044699255377054214\n",
      "Epoch: 470 and loss: 0.004290001001209021\n",
      "Epoch: 480 and loss: 0.004118212498724461\n",
      "Epoch: 490 and loss: 0.003954293206334114\n",
      "Epoch: 500 and loss: 0.0037993600126355886\n",
      "Epoch: 510 and loss: 0.003842905629426241\n",
      "Epoch: 520 and loss: 0.00945970881730318\n",
      "Epoch: 530 and loss: 0.0056554037146270275\n",
      "Epoch: 540 and loss: 0.0038993696216493845\n",
      "Epoch: 550 and loss: 0.0033646235242486\n",
      "Epoch: 560 and loss: 0.00321375485509634\n",
      "Epoch: 570 and loss: 0.003143962938338518\n",
      "Epoch: 580 and loss: 0.0030750175938010216\n",
      "Epoch: 590 and loss: 0.003004194237291813\n",
      "Epoch: 600 and loss: 0.0029355650767683983\n",
      "Epoch: 610 and loss: 0.00286952150054276\n",
      "Epoch: 620 and loss: 0.002805572235956788\n",
      "Epoch: 630 and loss: 0.0027433468494564295\n",
      "Epoch: 640 and loss: 0.0026826595421880484\n",
      "Epoch: 650 and loss: 0.0026234672404825687\n",
      "Epoch: 660 and loss: 0.0025657182559370995\n",
      "Epoch: 670 and loss: 0.002509389305487275\n",
      "Epoch: 680 and loss: 0.0024544396437704563\n",
      "Epoch: 690 and loss: 0.002400836441665888\n",
      "Epoch: 700 and loss: 0.0023485540878027678\n",
      "Epoch: 710 and loss: 0.0022975101601332426\n",
      "Epoch: 720 and loss: 0.0022477367892861366\n",
      "Epoch: 730 and loss: 0.0021991990506649017\n",
      "Epoch: 740 and loss: 0.0021518454886972904\n",
      "Epoch: 750 and loss: 0.0021056346595287323\n",
      "Epoch: 760 and loss: 0.002060577040538192\n",
      "Epoch: 770 and loss: 0.0020166130270808935\n",
      "Epoch: 780 and loss: 0.0019737391266971827\n",
      "Epoch: 790 and loss: 0.001931927283294499\n",
      "Epoch: 800 and loss: 0.0018911114893853664\n",
      "Epoch: 810 and loss: 0.0018513178220018744\n",
      "Epoch: 820 and loss: 0.0018124758498743176\n",
      "Epoch: 830 and loss: 0.0017746029188856483\n",
      "Epoch: 840 and loss: 0.0017376603791490197\n",
      "Epoch: 850 and loss: 0.0017016127239912748\n",
      "Epoch: 860 and loss: 0.001666438882239163\n",
      "Epoch: 870 and loss: 0.0016321446746587753\n",
      "Epoch: 880 and loss: 0.001598669565282762\n",
      "Epoch: 890 and loss: 0.0015660005155950785\n",
      "Epoch: 900 and loss: 0.001534138573333621\n",
      "Epoch: 910 and loss: 0.0015030381036922336\n",
      "Epoch: 920 and loss: 0.001472689094953239\n",
      "Epoch: 930 and loss: 0.0014430851442739367\n",
      "Epoch: 940 and loss: 0.0014141888823360205\n",
      "Epoch: 950 and loss: 0.0013859779573976994\n",
      "Epoch: 960 and loss: 0.0013584584230557084\n",
      "Epoch: 970 and loss: 0.0013315815012902021\n",
      "Epoch: 980 and loss: 0.001305360347032547\n",
      "Epoch: 990 and loss: 0.0012797509552910924\n",
      "Epoch: 1000 and loss: 0.0012547613587230444\n",
      "Epoch: 1010 and loss: 0.0012303631519898772\n",
      "Epoch: 1020 and loss: 0.0012065268820151687\n",
      "Epoch: 1030 and loss: 0.0011832620948553085\n",
      "Epoch: 1040 and loss: 0.001160534331575036\n",
      "Epoch: 1050 and loss: 0.001138348481617868\n",
      "Epoch: 1060 and loss: 0.001116683124564588\n",
      "Epoch: 1070 and loss: 0.0010955171892419457\n",
      "Epoch: 1080 and loss: 0.0010748428758233786\n",
      "Epoch: 1090 and loss: 0.0010546580888330936\n",
      "Epoch: 1100 and loss: 0.0010349139338359237\n",
      "Epoch: 1110 and loss: 0.0010156483622267842\n",
      "Epoch: 1120 and loss: 0.0009968079393729568\n",
      "Epoch: 1130 and loss: 0.0009784068679437041\n",
      "Epoch: 1140 and loss: 0.0009604274528101087\n",
      "Epoch: 1150 and loss: 0.0009428500779904425\n",
      "Epoch: 1160 and loss: 0.0009256777702830732\n",
      "Epoch: 1170 and loss: 0.000908886082470417\n",
      "Epoch: 1180 and loss: 0.0008924761787056923\n",
      "Epoch: 1190 and loss: 0.0008764300146140158\n",
      "Epoch: 1200 and loss: 0.00086075539002195\n",
      "Epoch: 1210 and loss: 0.0008454195922240615\n",
      "Epoch: 1220 and loss: 0.0008304241928271949\n",
      "Epoch: 1230 and loss: 0.0008157528354786336\n",
      "Epoch: 1240 and loss: 0.0008014180930331349\n",
      "Epoch: 1250 and loss: 0.000787400349508971\n",
      "Epoch: 1260 and loss: 0.0007736827828921378\n",
      "Epoch: 1270 and loss: 0.0007602616678923368\n",
      "Epoch: 1280 and loss: 0.0007471253047697246\n",
      "Epoch: 1290 and loss: 0.0007342785247601569\n",
      "Epoch: 1300 and loss: 0.0007217152742668986\n",
      "Epoch: 1310 and loss: 0.000709426763933152\n",
      "Epoch: 1320 and loss: 0.0006973856361582875\n",
      "Epoch: 1330 and loss: 0.0006856115651316941\n",
      "Epoch: 1340 and loss: 0.0006740855751559138\n",
      "Epoch: 1350 and loss: 0.0006628046976402402\n",
      "Epoch: 1360 and loss: 0.0006517540896311402\n",
      "Epoch: 1370 and loss: 0.0006409490597434342\n",
      "Epoch: 1380 and loss: 0.0006303544505499303\n",
      "Epoch: 1390 and loss: 0.0006199959316290915\n",
      "Epoch: 1400 and loss: 0.0006098331650719047\n",
      "Epoch: 1410 and loss: 0.0005999011336825788\n",
      "Epoch: 1420 and loss: 0.0005901674157939851\n",
      "Epoch: 1430 and loss: 0.0005806298577226698\n",
      "Epoch: 1440 and loss: 0.0005712842685170472\n",
      "Epoch: 1450 and loss: 0.0005621261079795659\n",
      "Epoch: 1460 and loss: 0.000553166784811765\n",
      "Epoch: 1470 and loss: 0.0005443764966912568\n",
      "Epoch: 1480 and loss: 0.0005357704358175397\n",
      "Epoch: 1490 and loss: 0.0005273331189528108\n",
      "Epoch: 1500 and loss: 0.000519063847605139\n",
      "Epoch: 1510 and loss: 0.0005109654739499092\n",
      "Epoch: 1520 and loss: 0.0005030257161706686\n",
      "Epoch: 1530 and loss: 0.0004952375311404467\n",
      "Epoch: 1540 and loss: 0.0004876033344771713\n",
      "Epoch: 1550 and loss: 0.0004801251634489745\n",
      "Epoch: 1560 and loss: 0.00047278052079491317\n",
      "Epoch: 1570 and loss: 0.00046559315524064004\n",
      "Epoch: 1580 and loss: 0.0004585356218740344\n",
      "Epoch: 1590 and loss: 0.0004516247718129307\n",
      "Epoch: 1600 and loss: 0.00044483141391538084\n",
      "Epoch: 1610 and loss: 0.0004381801118142903\n",
      "Epoch: 1620 and loss: 0.00043165023089386523\n",
      "Epoch: 1630 and loss: 0.00042523801675997674\n",
      "Epoch: 1640 and loss: 0.00041895537287928164\n",
      "Epoch: 1650 and loss: 0.00041280072764493525\n",
      "Epoch: 1660 and loss: 0.00040674509364180267\n",
      "Epoch: 1670 and loss: 0.00040080558392219245\n",
      "Epoch: 1680 and loss: 0.00039497652323916554\n",
      "Epoch: 1690 and loss: 0.0003892568056471646\n",
      "Epoch: 1700 and loss: 0.0003836494288407266\n",
      "Epoch: 1710 and loss: 0.00037813500966876745\n",
      "Epoch: 1720 and loss: 0.00037273214547894895\n",
      "Epoch: 1730 and loss: 0.0003674202598631382\n",
      "Epoch: 1740 and loss: 0.00036220424226485193\n",
      "Epoch: 1750 and loss: 0.0003570863918866962\n",
      "Epoch: 1760 and loss: 0.0003520567261148244\n",
      "Epoch: 1770 and loss: 0.00034711736952885985\n",
      "Epoch: 1780 and loss: 0.00034227033029310405\n",
      "Epoch: 1790 and loss: 0.0003375116502866149\n",
      "Epoch: 1800 and loss: 0.0003328315797261894\n",
      "Epoch: 1810 and loss: 0.00032823506626300514\n",
      "Epoch: 1820 and loss: 0.00032372030545957386\n",
      "Epoch: 1830 and loss: 0.00031928325188346207\n",
      "Epoch: 1840 and loss: 0.00031492498237639666\n",
      "Epoch: 1850 and loss: 0.00031064572976902127\n",
      "Epoch: 1860 and loss: 0.000306433328660205\n",
      "Epoch: 1870 and loss: 0.00030230192351154983\n",
      "Epoch: 1880 and loss: 0.00029823469230905175\n",
      "Epoch: 1890 and loss: 0.00029424348031170666\n",
      "Epoch: 1900 and loss: 0.0002903205167967826\n",
      "Epoch: 1910 and loss: 0.0002864618436433375\n",
      "Epoch: 1920 and loss: 0.0002826674608513713\n",
      "Epoch: 1930 and loss: 0.0002789385325741023\n",
      "Epoch: 1940 and loss: 0.00027526894700713456\n",
      "Epoch: 1950 and loss: 0.0002716637391131371\n",
      "Epoch: 1960 and loss: 0.0002681190671864897\n",
      "Epoch: 1970 and loss: 0.0002646310022100806\n",
      "Epoch: 1980 and loss: 0.00026120152324438095\n",
      "Epoch: 1990 and loss: 0.0002578335697762668\n"
     ]
    }
   ],
   "source": [
    "# Train our model\n",
    "# Epochs? (one run thru all the trainingg data in our network)\n",
    "epochs = 2000\n",
    "losses = []\n",
    "for i in range(epochs):\n",
    "    # Go forward and get a prediction\n",
    "    y_pred = model.forward(X_train) # Get predicted results\n",
    "\n",
    "    # Measure the loss/error, gonna be high at first value\n",
    "    loss = criterion(y_pred, y_train) # predicted values vs the y_train\n",
    "    # Keep track of our losses\n",
    "    losses.append(loss.detach().numpy())\n",
    "\n",
    "    # print every 10 epochs\n",
    "    if i % 10 == 0:\n",
    "        print(f'Epoch: {i} and loss: {loss}')\n",
    "    # Do some back propagations\n",
    "    optimizer.zero_grad()\n",
    "    loss.backward()\n",
    "    optimizer.step()"
   ]
  },
  {
   "cell_type": "code",
   "execution_count": 146,
   "metadata": {},
   "outputs": [
    {
     "data": {
      "text/plain": [
       "Text(0.5, 0, 'Epoch')"
      ]
     },
     "execution_count": 146,
     "metadata": {},
     "output_type": "execute_result"
    },
    {
     "data": {
      "image/png": "[encoded data removed]",
      "text/plain": [
       "<Figure size 640x480 with 1 Axes>"
      ]
     },
     "metadata": {},
     "output_type": "display_data"
    }
   ],
   "source": [
    "# Graph\n",
    "plt.plot(range(epochs), losses)\n",
    "plt.ylabel(\"loss/error\")\n",
    "plt.xlabel('Epoch')"
   ]
  },
  {
   "cell_type": "code",
   "execution_count": 147,
   "metadata": {},
   "outputs": [],
   "source": [
    "# Evaluate model on test data set (balidate model on test set)\n",
    "with torch.no_grad(): # Basically turn off back propagation\n",
    "    y_eval = model.forward(X_test) # X_test are features and y_eval predictions\n",
    "    loss = criterion(y_eval,y_test)"
   ]
  },
  {
   "cell_type": "code",
   "execution_count": 148,
   "metadata": {},
   "outputs": [
    {
     "name": "stdout",
     "output_type": "stream",
     "text": [
      "1 tensor([-12.4805,  -2.9652,  24.6886]) \t Virginica \t 2\n",
      "2 tensor([-16.1016,  -9.4414,  37.2595]) \t Virginica \t 2\n",
      "3 tensor([-18.5919,  -9.9842,  41.8451]) \t Virginica \t 2\n",
      "4 tensor([ 20.0517,  34.5092, -26.9834]) \t Versicolor \t 1\n",
      "5 tensor([-15.5963,  -6.3379,  33.2230]) \t Virginica \t 2\n",
      "6 tensor([ 34.4656,  48.3861, -47.3411]) \t Versicolor \t 1\n",
      "7 tensor([-9.8049,  0.9733, 20.4942]) \t Virginica \t 2\n",
      "8 tensor([ 21.2115,  35.8659, -28.8054]) \t Versicolor \t 1\n",
      "9 tensor([-14.1691,  -4.0528,  28.5455]) \t Virginica \t 2\n",
      "10 tensor([-17.2296, -10.2248,  39.9023]) \t Virginica \t 2\n",
      "11 tensor([-5.3892,  5.7242, 13.3991]) \t Virginica \t 2\n",
      "12 tensor([ 143.7588,  130.5425, -177.9993]) \t Setosa \t 0\n",
      "13 tensor([ 130.5813,  118.3149, -161.5934]) \t Setosa \t 0\n",
      "14 tensor([ 40.2876,  50.3598, -54.0076]) \t Versicolor \t 1\n",
      "15 tensor([ 126.1264,  116.6581, -156.8263]) \t Setosa \t 0\n",
      "16 tensor([ 1.2833, 13.3884,  2.9005]) \t Virginica \t 1\n",
      "17 tensor([ 131.9224,  120.1853, -163.4690]) \t Setosa \t 0\n",
      "18 tensor([-9.0595,  1.1857, 19.0740]) \t Versicolor \t 2\n",
      "19 tensor([ 150.6627,  135.8279, -186.1878]) \t Setosa \t 0\n",
      "20 tensor([ 114.3219,  105.4382, -142.0648]) \t Setosa \t 0\n",
      "21 tensor([ 38.9629,  50.4775, -52.7064]) \t Versicolor \t 1\n",
      "22 tensor([-16.7876,  -8.5993,  37.4947]) \t Virginica \t 2\n",
      "23 tensor([ 127.3366,  117.4765, -158.2418]) \t Setosa \t 0\n",
      "24 tensor([ 138.4740,  125.4254, -171.3479]) \t Setosa \t 0\n",
      "25 tensor([ 40.1853,  52.2446, -54.4087]) \t Versicolor \t 1\n",
      "26 tensor([ 33.3992,  46.7735, -45.8792]) \t Versicolor \t 1\n",
      "27 tensor([ 17.6649,  32.2481, -22.9792]) \t Versicolor \t 1\n",
      "28 tensor([ 39.6829,  51.8394, -53.7885]) \t Versicolor \t 1\n",
      "29 tensor([ 142.4450,  129.2740, -176.3497]) \t Setosa \t 0\n",
      "30 tensor([ 15.3828,  29.1597, -19.5971]) \t Versicolor \t 1\n",
      "We got 28 correct out of 30\n"
     ]
    }
   ],
   "source": [
    "correct = 0\n",
    "with torch.no_grad():\n",
    "    for i, data in enumerate(X_test):\n",
    "        y_val = model.forward(data)\n",
    "        if y_test[i] == 0:\n",
    "            x = \"Setosa\"\n",
    "        elif y_test[i] == 1:\n",
    "            x = 'Versicolor'\n",
    "        else: \n",
    "            x = 'Virginica'\n",
    "\n",
    "\n",
    "\n",
    "        # Will tell us what type of flower class our network thinks it is\n",
    "        print(f'{i+1} {str(y_val)} \\t {x} \\t {y_val.argmax().item()}')\n",
    "\n",
    "        # Correct or not\n",
    "        if y_val.argmax().item() == y_test[i]:\n",
    "            correct += 1\n",
    "print(f'We got {correct} correct out of {len(X_test)}')\n"
   ]
  },
  {
   "cell_type": "code",
   "execution_count": null,
   "metadata": {},
   "outputs": [],
   "source": [
    "new_iris = torch.tensor([4.7, 3.2, 1.3, 0.2])"
   ]
  },
  {
   "cell_type": "code",
   "execution_count": null,
   "metadata": {},
   "outputs": [],
   "source": [
    "newer_iris = torch.tensor([5.9, 3.0, 5.1, 1.8])"
   ]
  },
  {
   "cell_type": "code",
   "execution_count": null,
   "metadata": {},
   "outputs": [],
   "source": [
    "with torch.no_grad():\n",
    "    print(model(newer_iris))"
   ]
  },
  {
   "cell_type": "code",
   "execution_count": 151,
   "metadata": {},
   "outputs": [],
   "source": [
    "# Save our NN model\n",
    "torch.save(model.state_dict(), 'iris_model.pt')"
   ]
  },
  {
   "cell_type": "code",
   "execution_count": 152,
   "metadata": {},
   "outputs": [
    {
     "data": {
      "text/plain": [
       "<All keys matched successfully>"
      ]
     },
     "execution_count": 152,
     "metadata": {},
     "output_type": "execute_result"
    }
   ],
   "source": [
    "# Load the saved\n",
    "new_model = Model()\n",
    "new_model.load_state_dict(torch.load('iris_model.pt'))"
   ]
  },
  {
   "cell_type": "code",
   "execution_count": 153,
   "metadata": {},
   "outputs": [
    {
     "data": {
      "text/plain": [
       "Model(\n",
       "  (fc1): Linear(in_features=4, out_features=8, bias=True)\n",
       "  (fc2): Linear(in_features=8, out_features=9, bias=True)\n",
       "  (out): Linear(in_features=9, out_features=3, bias=True)\n",
       ")"
      ]
     },
     "execution_count": 153,
     "metadata": {},
     "output_type": "execute_result"
    }
   ],
   "source": [
    "# Make sure it loaded correctly\n",
    "new_model.eval()"
   ]
  }
 ],
 "metadata": {
  "kernelspec": {
   "display_name": "base",
   "language": "python",
   "name": "python3"
  },
  "language_info": {
   "codemirror_mode": {
    "name": "ipython",
    "version": 3
   },
   "file_extension": ".py",
   "mimetype": "text/x-python",
   "name": "python",
   "nbconvert_exporter": "python",
   "pygments_lexer": "ipython3",
   "version": "3.11.5"
  }
 },
 "nbformat": 4,
 "nbformat_minor": 2
}
